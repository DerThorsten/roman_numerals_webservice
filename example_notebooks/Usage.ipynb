{
 "cells": [
  {
   "cell_type": "markdown",
   "metadata": {},
   "source": [
    "Convert Roman Numerals localy \n",
    "==========================="
   ]
  },
  {
   "cell_type": "code",
   "execution_count": 1,
   "metadata": {},
   "outputs": [],
   "source": [
    "from roman_numerals_webservice.roman_numerals import *"
   ]
  },
  {
   "cell_type": "code",
   "execution_count": 2,
   "metadata": {},
   "outputs": [
    {
     "name": "stdout",
     "output_type": "stream",
     "text": [
      "MCMLXXXV\n"
     ]
    }
   ],
   "source": [
    "print(arabic_to_roman(1985))"
   ]
  },
  {
   "cell_type": "code",
   "execution_count": 3,
   "metadata": {},
   "outputs": [
    {
     "name": "stdout",
     "output_type": "stream",
     "text": [
      "1985\n"
     ]
    }
   ],
   "source": [
    "print(roman_to_arabic(\"MCMLXXXV\"))"
   ]
  },
  {
   "cell_type": "markdown",
   "metadata": {},
   "source": [
    "Convert Roman Numerals with a Webservice\n",
    "==============================================\n",
    "\n",
    "Since we want to start and use the server within this notebook we create an \"inplace\" server\n",
    "with a python context manager."
   ]
  },
  {
   "cell_type": "code",
   "execution_count": 4,
   "metadata": {},
   "outputs": [],
   "source": [
    "from http import HTTPStatus\n",
    "import cherrypy\n",
    "import requests\n",
    "import json\n",
    "from contextlib import contextmanager\n",
    "\n",
    "@contextmanager\n",
    "def run_server():\n",
    "    cherrypy.engine.start()\n",
    "    cherrypy.engine.wait(cherrypy.engine.states.STARTED)\n",
    "    yield\n",
    "    cherrypy.engine.exit()\n",
    "    cherrypy.engine.block()\n",
    "\n",
    "config = {\n",
    "    'environment': 'production',\n",
    "}\n",
    "cherrypy.config.update(config)\n",
    "\n",
    "\n",
    "url_arabic_to_roman = 'http://localhost:8080/arabic_to_roman'\n",
    "url_roman_to_arabic = 'http://localhost:8080/roman_to_arabic'"
   ]
  },
  {
   "cell_type": "markdown",
   "metadata": {},
   "source": [
    "Convert Arabic Numerals to Roman\n",
    "--------------------------------------------------"
   ]
  },
  {
   "cell_type": "code",
   "execution_count": 5,
   "metadata": {},
   "outputs": [
    {
     "name": "stdout",
     "output_type": "stream",
     "text": [
      "{'roman': 'MCMLXXXIV'}\n"
     ]
    }
   ],
   "source": [
    "from roman_numerals_webservice import RomanNumeralsWebservice\n",
    "\n",
    "with run_server():\n",
    "    cherrypy.tree.mount(RomanNumeralsWebservice())\n",
    "    r = requests.post(url_arabic_to_roman, json={\"arabic\" : 1984})\n",
    "    if r.status_code == HTTPStatus.OK:\n",
    "        json_res = json.loads(r.json())\n",
    "        print(json_res)\n",
    "    else:\n",
    "        print(\"Something went wrong\")"
   ]
  },
  {
   "cell_type": "markdown",
   "metadata": {},
   "source": [
    "Convert Roman Numerals to Arabic Numerals\n",
    "----------------------------------------------------------------"
   ]
  },
  {
   "cell_type": "code",
   "execution_count": 6,
   "metadata": {},
   "outputs": [
    {
     "name": "stdout",
     "output_type": "stream",
     "text": [
      "{'arabic': 1984}\n"
     ]
    }
   ],
   "source": [
    "with run_server():\n",
    "    cherrypy.tree.mount(RomanNumeralsWebservice())\n",
    "    r = requests.post(url_roman_to_arabic, json={\"roman\" : 'MCMLXXXIV'})\n",
    "    if r.status_code == HTTPStatus.OK:\n",
    "        json_res = json.loads(r.json())\n",
    "        print(json_res)\n",
    "    else:\n",
    "        print(\"Something went wrong\")"
   ]
  }
 ],
 "metadata": {
  "kernelspec": {
   "display_name": "Python 3",
   "language": "python",
   "name": "python3"
  },
  "language_info": {
   "codemirror_mode": {
    "name": "ipython",
    "version": 3
   },
   "file_extension": ".py",
   "mimetype": "text/x-python",
   "name": "python",
   "nbconvert_exporter": "python",
   "pygments_lexer": "ipython3",
   "version": "3.6.7"
  }
 },
 "nbformat": 4,
 "nbformat_minor": 2
}
